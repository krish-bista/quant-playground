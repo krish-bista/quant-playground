{
 "cells": [
  {
   "cell_type": "code",
   "execution_count": 13,
   "id": "57886957-9923-42e6-bd0f-8771e54b4669",
   "metadata": {},
   "outputs": [
    {
     "name": "stdout",
     "output_type": "stream",
     "text": [
      "Array:\n",
      " [[1 2]\n",
      " [3 4]]\n",
      "Dot Product:\n",
      " [[19 22]\n",
      " [43 50]]\n"
     ]
    }
   ],
   "source": [
    "import numpy as np\n",
    "\n",
    "# Create an array\n",
    "a = np.array([[1, 2], [3, 4]])\n",
    "print(\"Array:\\n\", a)\n",
    "\n",
    "# Dot product\n",
    "b = np.array([[5, 6], [7, 8]])\n",
    "dot = np.dot(a, b)\n",
    "print(\"Dot Product:\\n\", dot)"
   ]
  },
  {
   "cell_type": "code",
   "execution_count": 15,
   "id": "8e219d87-06b6-498a-af1e-0c536c0527b7",
   "metadata": {},
   "outputs": [
    {
     "name": "stdout",
     "output_type": "stream",
     "text": [
      "8\n",
      "[[2 3]]\n",
      "[[2 3]\n",
      " [7 8]]\n"
     ]
    }
   ],
   "source": [
    "np3 = np.array([1, 2, 3, 4, 5, 6, 7, 8, 9])\n",
    "#print(np3[2:6])\n",
    "np4 = np.array([[1, 2, 3, 4, 5], [6, 7, 8, 9, 10]])\n",
    "print(np4[1][2])\n",
    "# slicing a 2d array\n",
    "print(np4[0:1, 1:3])\n",
    "print(np4[0:, 1:3])"
   ]
  },
  {
   "cell_type": "code",
   "execution_count": 17,
   "id": "5c894122-57b9-468d-b88c-60fb4dac4508",
   "metadata": {},
   "outputs": [
    {
     "name": "stdout",
     "output_type": "stream",
     "text": [
      "[-5 -4 -3 -2 -1  0  1  2  3  4  5  6  7  8  9]\n",
      "[ 0.95892427  0.7568025  -0.14112001 -0.90929743 -0.84147098  0.\n",
      "  0.84147098  0.90929743  0.14112001 -0.7568025  -0.95892427 -0.2794155\n",
      "  0.6569866   0.98935825  0.41211849]\n",
      "[0.         0.69314718 1.09861229 1.38629436 1.60943791 1.79175947\n",
      " 1.94591015 2.07944154 2.19722458]\n",
      "[ 0.28366219 -0.65364362 -0.9899925  -0.41614684  0.54030231  1.\n",
      "  0.54030231 -0.41614684 -0.9899925  -0.65364362  0.28366219  0.96017029\n",
      "  0.75390225 -0.14550003 -0.91113026]\n"
     ]
    }
   ],
   "source": [
    "#some universal functions in numpy\n",
    "np1 = np.array([-5, -4, -3, -2, -1, 0, 1, 2, 3, 4, 5, 6, 7, 8, 9])\n",
    "print(np1)\n",
    "\n",
    "#print(np.sqrt(np1))\n",
    "\n",
    "#print(np.absolute(np1))\n",
    "\n",
    "#print(np.exp(np1))\n",
    "\n",
    "#print(np.max(np1))\n",
    "#print(np.min(np1))\n",
    "\n",
    "#print(np.sign(np1))\n",
    "\n",
    "#Trigonometry\n",
    "print(np.sin(np1))\n",
    "print(np.log(np1[6:]))\n",
    "print(np.cos(np1))\n"
   ]
  },
  {
   "cell_type": "code",
   "execution_count": 19,
   "id": "f0671ff8-bbfc-41bb-9de9-c87b0199d8aa",
   "metadata": {},
   "outputs": [
    {
     "name": "stdout",
     "output_type": "stream",
     "text": [
      "Original np1: [1 2 3 4 5]\n",
      "Original np2: [1 2 3 4 5]\n",
      "Changed np1: [7 2 3 4 5]\n",
      "Original np2: [7 2 3 4 5]\n"
     ]
    },
    {
     "data": {
      "text/plain": [
       "'\\nCreating a copy\\nnp2 =  np1.copy()\\nprint(f\"Original np1: {np1}\")\\nprint(f\"Original np2: {np2}\")\\n\\nnp1[0] = 7\\n\\nprint(f\"Changed np1: {np1}\")\\nprint(f\"Original np2: {np2}\")\\n'"
      ]
     },
     "execution_count": 19,
     "metadata": {},
     "output_type": "execute_result"
    }
   ],
   "source": [
    "np1 = np.array([1, 2, 3, 4, 5])\n",
    "# Creating a view\n",
    "\n",
    "np2 = np1.view()\n",
    "print(f\"Original np1: {np1}\")\n",
    "print(f\"Original np2: {np2}\")\n",
    "\n",
    "np1[0] = 7\n",
    "\n",
    "print(f\"Changed np1: {np1}\")\n",
    "print(f\"Original np2: {np2}\")\n",
    "\n",
    "\"\"\"\n",
    "Creating a copy\n",
    "np2 =  np1.copy()\n",
    "print(f\"Original np1: {np1}\")\n",
    "print(f\"Original np2: {np2}\")\n",
    "\n",
    "np1[0] = 7\n",
    "\n",
    "print(f\"Changed np1: {np1}\")\n",
    "print(f\"Original np2: {np2}\")\n",
    "\"\"\""
   ]
  },
  {
   "cell_type": "code",
   "execution_count": 21,
   "id": "62fcf096-6429-444f-a3e4-84186d825a22",
   "metadata": {},
   "outputs": [
    {
     "name": "stdout",
     "output_type": "stream",
     "text": [
      "[ 1  2  3  4  5  6  7  8  9 10 11 12]\n",
      "(12,)\n",
      "[[ 1  2  3  4]\n",
      " [ 5  6  7  8]\n",
      " [ 9 10 11 12]]\n",
      "[[[ 1  2]\n",
      "  [ 3  4]\n",
      "  [ 5  6]]\n",
      "\n",
      " [[ 7  8]\n",
      "  [ 9 10]\n",
      "  [11 12]]]\n",
      "[ 1  2  3  4  5  6  7  8  9 10 11 12]\n",
      "(12,)\n"
     ]
    }
   ],
   "source": [
    "# Shape and Reshape numpy arrays\n",
    "\n",
    "# Create a 1-D array and find its shape\n",
    "np1 = np.array([1, 2, 3, 4, 5, 6, 7, 8, 9, 10, 11, 12])\n",
    "print(np1)\n",
    "print(np1.shape)\n",
    "\n",
    "# Create a 2-D array and get shape(rows/columns)\n",
    "#np2 = np.array([[1, 2, 3, 4, 5, 6], [7, 8, 9, 10, 11, 12]])\n",
    "#print(np2)\n",
    "#print(np2.shape)\n",
    "\n",
    "# Reshape 2-D\n",
    "np3 = np1.reshape(3, 4)\n",
    "print(np3)\n",
    "\n",
    "# Reshape 3-D\n",
    "np4 = np1.reshape(2, 3, 2)\n",
    "print(np4)\n",
    "\n",
    "# Flatten to 1-D\n",
    "np5 = np4.reshape(-1)\n",
    "print(np5)\n",
    "print(np5.shape)"
   ]
  },
  {
   "cell_type": "code",
   "execution_count": 43,
   "id": "798cb5fc-1a4d-405c-ba3e-6dd9bfc3df9f",
   "metadata": {},
   "outputs": [
    {
     "name": "stdout",
     "output_type": "stream",
     "text": [
      "1\n",
      "2\n",
      "3\n",
      "4\n",
      "5\n",
      "6\n",
      "7\n",
      "8\n",
      "9\n",
      "10\n",
      "11\n",
      "12\n"
     ]
    }
   ],
   "source": [
    "# iterating through numpy array\n",
    "\n",
    "#1-D\n",
    "#np1 = np.array([1, 2, 3, 4, 5, 6, 7, 8, 9, 10])\n",
    "#for i in np1:\n",
    " #   print(i)\n",
    "\n",
    "#2-D\n",
    "#np2 = np.array([[1, 2, 3, 4, 5], [6, 7, 8, 9, 10]])\n",
    "#for i in np2:\n",
    " #   print(i)\n",
    "  #  for j in i:\n",
    "   #     print(j)\n",
    "\n",
    "#3-D\n",
    "np3 = np.array([[[1, 2, 3], [4, 5, 6]], [[7, 8, 9], [10, 11, 12]]])\n",
    "\"\"\"\n",
    "for i in np3:\n",
    "    #print(i)\n",
    "    for j in i:\n",
    "        #print(j)\n",
    "        for k in j:\n",
    "            print(k)\n",
    "\"\"\"\n",
    "for i in np.nditer(np3):\n",
    "    print(i)\n",
    "    \n"
   ]
  },
  {
   "cell_type": "code",
   "execution_count": 51,
   "id": "ae57fa13-83e6-4ec9-a9c6-8a8d99d6cb7e",
   "metadata": {},
   "outputs": [
    {
     "name": "stdout",
     "output_type": "stream",
     "text": [
      "[0 1 2 4 6 7 9]\n",
      "['Jim' 'John' 'Krish' 'Qazi']\n",
      "[[ 2  5  6  8 10]\n",
      " [ 1  3  4  7  9]]\n",
      "[ 1  2  3  4  5  6  7  8  9 10]\n"
     ]
    }
   ],
   "source": [
    "# sorting\n",
    "np1 = np.array([6, 7, 4, 9, 0, 2, 1])\n",
    "print(np.sort(np1))\n",
    "\n",
    "np2 = np.array(['John', 'Krish', 'Qazi', 'Jim'])\n",
    "print(np.sort(np2))\n",
    "\n",
    "\n",
    "#2-D\n",
    "np3 = np.array([[6, 2, 8, 10, 5], [3, 1, 7, 4, 9]])\n",
    "print(np.sort(np3))\n",
    "print(np.sort(np.nditer(np3)))"
   ]
  },
  {
   "cell_type": "code",
   "execution_count": 71,
   "id": "e52b8a66-8782-450f-bdac-afe7afe56a23",
   "metadata": {},
   "outputs": [
    {
     "name": "stdout",
     "output_type": "stream",
     "text": [
      "(array([2, 9], dtype=int64),)\n",
      "[2 9]\n",
      "[ 1  3  5  7 10]\n"
     ]
    }
   ],
   "source": [
    "#Searcching\n",
    "np1 = np.array([1, 2, 3, 4, 5, 6, 7, 8, 9, 3, 10])\n",
    "x = np.where(np1 == 3)\n",
    "print(x)\n",
    "print(x[0])\n",
    "\n",
    "# even items\n",
    "y = np.where(np1 % 2 == 0)\n",
    "print(y[0])"
   ]
  },
  {
   "cell_type": "code",
   "execution_count": 81,
   "id": "028b98bc-5672-482b-9d4b-18f98dce2609",
   "metadata": {},
   "outputs": [
    {
     "name": "stdout",
     "output_type": "stream",
     "text": [
      "[False  True False  True False  True False  True False  True]\n",
      "[ 2  4  6  8 10]\n"
     ]
    }
   ],
   "source": [
    "# Filtering\n",
    "np1 = np.array([1, 2, 3, 4, 5, 6, 7, 8, 9, 10])\n",
    "#x = [True, True, False, False, False, False, False, False, False, False]\n",
    "#print(np1)\n",
    "#print(np1[x])\n",
    "\n",
    "\"\"\"\n",
    "filtered = []\n",
    "for item in np1:\n",
    "    if (item % 2 == 0):\n",
    "        filtered.append(True)\n",
    "    else:\n",
    "        filtered.append(False)\n",
    "\n",
    "print(np1[filtered])\n",
    "\"\"\"\n",
    "filtered = np1 % 2 == 0\n",
    "print(filtered)\n",
    "print(np1[filtered])"
   ]
  },
  {
   "cell_type": "code",
   "execution_count": null,
   "id": "f51307d7-5d0f-4fc6-a764-71624a87401c",
   "metadata": {},
   "outputs": [],
   "source": []
  }
 ],
 "metadata": {
  "kernelspec": {
   "display_name": "Python [conda env:base] *",
   "language": "python",
   "name": "conda-base-py"
  },
  "language_info": {
   "codemirror_mode": {
    "name": "ipython",
    "version": 3
   },
   "file_extension": ".py",
   "mimetype": "text/x-python",
   "name": "python",
   "nbconvert_exporter": "python",
   "pygments_lexer": "ipython3",
   "version": "3.12.7"
  }
 },
 "nbformat": 4,
 "nbformat_minor": 5
}
